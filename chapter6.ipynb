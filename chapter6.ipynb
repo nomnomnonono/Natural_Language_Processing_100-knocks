{
 "cells": [
  {
   "cell_type": "code",
   "execution_count": 14,
   "metadata": {},
   "outputs": [],
   "source": [
    "# 0\n",
    "import pandas as pd\n",
    "from sklearn.model_selection import train_test_split\n",
    "\n",
    "df = pd.read_csv(\"news_aggregator/newsCorpora.csv\", sep=\"\\t\", names=[\"ID\", \"TITLE\", \"URL\", \"PUBLISHER\", \"CATEGORY\", \"STORY\", \"HOSTNAME\", \"TIMESTAMP\"])\n",
    "df = df.loc[df[\"PUBLISHER\"].isin([\"Reuters\", \"Huffington Post\", \"Businessweek\", \"Contactmusic.com\", \"Daily Mail\"]), [\"TITLE\", \"CATEGORY\"]]\n",
    "train, val_test = train_test_split(df, test_size=0.2, shuffle=True, random_state=42)\n",
    "val, test = train_test_split(val_test, test_size=0.5, shuffle=True, random_state=42)\n",
    "train.to_csv('train.txt', sep='\\t', index=False)\n",
    "val.to_csv('valid.txt', sep='\\t', index=False)\n",
    "test.to_csv('test.txt', sep='\\t', index=False)"
   ]
  },
  {
   "cell_type": "code",
   "execution_count": 61,
   "metadata": {},
   "outputs": [],
   "source": [
    "# 1\n",
    "import string\n",
    "import re\n",
    "from sklearn.feature_extraction.text import TfidfVectorizer\n",
    "import pandas as pd\n",
    "\n",
    "def preprocessing(text):\n",
    "    text = text.lower()\n",
    "    #text = re.sub(\"[0-9]+\", \"0\", text)\n",
    "    return text\n",
    "\n",
    "df = pd.read_csv(\"news_aggregator/newsCorpora.csv\", sep=\"\\t\", names=[\"ID\", \"TITLE\", \"URL\", \"PUBLISHER\", \"CATEGORY\", \"STORY\", \"HOSTNAME\", \"TIMESTAMP\"])\n",
    "df = df.loc[df[\"PUBLISHER\"].isin([\"Reuters\", \"Huffington Post\", \"Businessweek\", \"Contactmusic.com\", \"Daily Mail\"]), [\"TITLE\"]]\n",
    "df[\"TITLE\"] = df[\"TITLE\"].map(lambda x: preprocessing(x))\n",
    "\n",
    "vectorizer = TfidfVectorizer(min_df=10)\n",
    "features = vectorizer.fit_transform(df[\"TITLE\"])\n",
    "features = pd.DataFrame(features.toarray(), columns=vectorizer.get_feature_names())\n",
    "\n",
    "train, val_test = train_test_split(features, test_size=0.2, shuffle=True, random_state=42)\n",
    "val, test = train_test_split(val_test, test_size=0.5, shuffle=True, random_state=42)\n",
    "\n",
    "train.to_csv('train.feature.txt', sep='\\t', index=False)\n",
    "val.to_csv('valid.feature.txt', sep='\\t', index=False)\n",
    "test.to_csv('test.feature.txt', sep='\\t', index=False)"
   ]
  },
  {
   "cell_type": "code",
   "execution_count": 65,
   "metadata": {},
   "outputs": [
    {
     "data": {
      "text/plain": [
       "LogisticRegression(max_iter=300, random_state=42)"
      ]
     },
     "execution_count": 65,
     "metadata": {},
     "output_type": "execute_result"
    }
   ],
   "source": [
    "# 2\n",
    "from sklearn.linear_model import LogisticRegression\n",
    "\n",
    "x = pd.read_csv(\"train.feature.txt\", sep=\"\\t\")\n",
    "y = pd.read_csv(\"train.txt\", sep=\"\\t\")[\"CATEGORY\"]\n",
    "model = LogisticRegression(random_state=42, max_iter=300)\n",
    "model.fit(x, y)"
   ]
  },
  {
   "cell_type": "code",
   "execution_count": 70,
   "metadata": {},
   "outputs": [
    {
     "name": "stdout",
     "output_type": "stream",
     "text": [
      "(array(['b', 'e', 'e', ..., 'e', 'b', 'b'], dtype=object), array([[0.88331068, 0.08555597, 0.01275294, 0.01838041],\n",
      "       [0.18259856, 0.39673751, 0.3260791 , 0.09458484],\n",
      "       [0.09725359, 0.76896979, 0.07603702, 0.0577396 ],\n",
      "       ...,\n",
      "       [0.04219166, 0.85768439, 0.07723417, 0.02288977],\n",
      "       [0.93293462, 0.03788706, 0.01822924, 0.01094908],\n",
      "       [0.92495641, 0.0501749 , 0.01203027, 0.01283842]]))\n",
      "(array(['b', 'e', 't', ..., 'b', 'b', 'e'], dtype=object), array([[0.59073316, 0.09933793, 0.01510715, 0.29482176],\n",
      "       [0.10628512, 0.56849778, 0.07681307, 0.24840404],\n",
      "       [0.39800212, 0.01840273, 0.02458054, 0.55901461],\n",
      "       ...,\n",
      "       [0.9615543 , 0.01907287, 0.00712917, 0.01224366],\n",
      "       [0.45545411, 0.05248722, 0.03878949, 0.45326918],\n",
      "       [0.08559282, 0.86063247, 0.0256745 , 0.02810021]]))\n"
     ]
    }
   ],
   "source": [
    "# 3\n",
    "def calc_score(model, x):\n",
    "    pred = model.predict(x)\n",
    "    prob = model.predict_proba(x)\n",
    "    return pred, prob\n",
    "\n",
    "x = pd.read_csv(\"train.feature.txt\", sep=\"\\t\")\n",
    "print(calc_score(model, x))\n",
    "\n",
    "x = pd.read_csv(\"test.feature.txt\", sep=\"\\t\")\n",
    "print(calc_score(model, x))"
   ]
  },
  {
   "cell_type": "code",
   "execution_count": 73,
   "metadata": {},
   "outputs": [
    {
     "name": "stdout",
     "output_type": "stream",
     "text": [
      "Train:\t0.924\n",
      "Test:\t0.879\n"
     ]
    }
   ],
   "source": [
    "# 4\n",
    "from sklearn.metrics import accuracy_score\n",
    "\n",
    "x = pd.read_csv(\"train.feature.txt\", sep=\"\\t\")\n",
    "y = pd.read_csv(\"train.txt\", sep=\"\\t\")[\"CATEGORY\"]\n",
    "pred = model.predict(x)\n",
    "print(f\"Train:\\t{accuracy_score(pred, y):.3f}\")\n",
    "\n",
    "x = pd.read_csv(\"test.feature.txt\", sep=\"\\t\")\n",
    "y = pd.read_csv(\"test.txt\", sep=\"\\t\")[\"CATEGORY\"]\n",
    "pred = model.predict(x)\n",
    "print(f\"Test:\\t{accuracy_score(pred, y):.3f}\")"
   ]
  },
  {
   "cell_type": "code",
   "execution_count": 91,
   "metadata": {},
   "outputs": [
    {
     "data": {
      "text/plain": [
       "Text(0.5, 1.0, 'Test')"
      ]
     },
     "execution_count": 91,
     "metadata": {},
     "output_type": "execute_result"
    },
    {
     "data": {
      "image/png": "[encoded data removed]",
      "text/plain": [
       "<Figure size 1080x576 with 4 Axes>"
      ]
     },
     "metadata": {
      "needs_background": "light"
     },
     "output_type": "display_data"
    }
   ],
   "source": [
    "# 5\n",
    "from sklearn.metrics import confusion_matrix\n",
    "import seaborn as sns\n",
    "import matplotlib.pyplot as plt\n",
    "\n",
    "\n",
    "x = pd.read_csv(\"train.feature.txt\", sep=\"\\t\")\n",
    "y = pd.read_csv(\"train.txt\", sep=\"\\t\")[\"CATEGORY\"]\n",
    "pred = model.predict(x)\n",
    "train_cm = confusion_matrix(y, pred)\n",
    "\n",
    "x = pd.read_csv(\"test.feature.txt\", sep=\"\\t\")\n",
    "y = pd.read_csv(\"test.txt\", sep=\"\\t\")[\"CATEGORY\"]\n",
    "pred = model.predict(x)\n",
    "test_cm = confusion_matrix(y, pred)\n",
    "\n",
    "plt.figure(figsize=(15, 8))\n",
    "plt.subplot(1, 2, 1)\n",
    "sns.heatmap(train_cm, square=True, annot=True)\n",
    "plt.title(\"Train\", fontsize=14)\n",
    "plt.subplot(1, 2, 2)\n",
    "sns.heatmap(test_cm, square=True, annot=True)\n",
    "plt.title(\"Test\", fontsize=14)"
   ]
  },
  {
   "cell_type": "code",
   "execution_count": 104,
   "metadata": {},
   "outputs": [
    {
     "name": "stdout",
     "output_type": "stream",
     "text": [
      "Train\n",
      "               precision    recall        f1\n",
      "b               0.931277  0.964522  0.947608\n",
      "e               0.917383  0.984863  0.949926\n",
      "t               0.906414  0.715353  0.799629\n",
      "m               0.958506  0.659058  0.781065\n",
      "macro-average   0.924382  0.924382  0.924382\n",
      "micro-average   0.928395  0.830949  0.869557\n",
      "\n",
      "Test\n",
      "               precision    recall        f1\n",
      "b               0.880952  0.928315  0.904014\n",
      "e               0.883275  0.971264  0.925182\n",
      "t               0.823529  0.597561  0.692580\n",
      "m               0.924528  0.544444  0.685315\n",
      "macro-average   0.878561  0.878561  0.878561\n",
      "micro-average   0.878071  0.760396  0.801773\n"
     ]
    }
   ],
   "source": [
    "# 6\n",
    "import numpy as np\n",
    "from sklearn.metrics import precision_score, recall_score, f1_score\n",
    "\n",
    "def calc_score(y_true, y_pred):\n",
    "    precision = precision_score(y_true, y_pred, average=None, labels=['b', 'e', 't', 'm'])\n",
    "    precision = np.append(precision, precision_score(y_true, y_pred, average=\"micro\", labels=['b', 'e', 't', 'm']))\n",
    "    precision = np.append(precision, precision_score(y_true, y_pred, average=\"macro\", labels=['b', 'e', 't', 'm']))\n",
    "\n",
    "    recall = recall_score(y_true, y_pred, average=None, labels=['b', 'e', 't', 'm'])\n",
    "    recall = np.append(recall, recall_score(y_true, y_pred, average=\"micro\", labels=['b', 'e', 't', 'm']))\n",
    "    recall = np.append(recall, recall_score(y_true, y_pred, average=\"macro\", labels=['b', 'e', 't', 'm']))\n",
    "\n",
    "    f1 = f1_score(y_true, y_pred, average=None, labels=['b', 'e', 't', 'm'])\n",
    "    f1 = np.append(f1, f1_score(y_true, y_pred, average=\"micro\", labels=['b', 'e', 't', 'm']))\n",
    "    f1 = np.append(f1, f1_score(y_true, y_pred, average=\"macro\", labels=['b', 'e', 't', 'm']))\n",
    "\n",
    "    df = pd.DataFrame(\n",
    "        {\"precision\": precision, \"recall\": recall, \"f1\": f1},\n",
    "        index=[\"b\", \"e\", \"t\", \"m\", \"macro-average\", \"micro-average\"]\n",
    "    )\n",
    "\n",
    "    return df\n",
    "\n",
    "x = pd.read_csv(\"train.feature.txt\", sep=\"\\t\")\n",
    "y = pd.read_csv(\"train.txt\", sep=\"\\t\")[\"CATEGORY\"]\n",
    "pred = model.predict(x)\n",
    "score = calc_score(y, pred)\n",
    "print(\"Train\")\n",
    "print(score)\n",
    "\n",
    "x = pd.read_csv(\"test.feature.txt\", sep=\"\\t\")\n",
    "y = pd.read_csv(\"test.txt\", sep=\"\\t\")[\"CATEGORY\"]\n",
    "pred = model.predict(x)\n",
    "score = calc_score(y, pred)\n",
    "print(\"\\nTest\")\n",
    "print(score)"
   ]
  },
  {
   "cell_type": "code",
   "execution_count": 133,
   "metadata": {},
   "outputs": [
    {
     "name": "stdout",
     "output_type": "stream",
     "text": [
      "---------- Class: b ----------\n",
      "上位 ['stocks', 'fed', 'bank', 'ecb', 'china', 'euro', 'oil', 'obamacare', 'yellen', 'ukraine']\n",
      "下位 ['tv', 'star', 'aereo', 'virus', 'microsoft', 'she', 'ebola', 'and', 'video', 'her']\n",
      "---------- Class: e ----------\n",
      "上位 ['kardashian', 'chris', 'star', 'kim', 'miley', 'cyrus', 'movie', 'film', 'thrones', 'jay']\n",
      "下位 ['billion', 'apple', 'facebook', 'study', 'says', 'gm', 'china', 'google', 'us', 'update']\n",
      "---------- Class: t ----------\n",
      "上位 ['ebola', 'cancer', 'study', 'drug', 'fda', 'mers', 'cases', 'cdc', 'could', 'outbreak']\n",
      "下位 ['ceo', 'game', 'bank', 'climate', 'sales', 'apple', 'amazon', 'google', 'facebook', 'gm']\n",
      "---------- Class: m ----------\n",
      "上位 ['google', 'facebook', 'apple', 'microsoft', 'climate', 'gm', 'nasa', 'tesla', 'mobile', 'comcast']\n",
      "下位 ['cancer', 'thrones', 'ecb', 'ukraine', 'her', 'york', 'american', 'drug', 'fed', 'stocks']\n"
     ]
    }
   ],
   "source": [
    "# 7\n",
    "classes = ['b', 'e', 't', 'm']\n",
    "feature = pd.read_csv(\"train.feature.txt\", sep=\"\\t\").columns\n",
    "coef = model.coef_\n",
    "\n",
    "for c in range(coef.shape[0]):\n",
    "    sort_idx = np.argsort(-coef[c, :])\n",
    "    high_idx, low_idx = sort_idx[:10], sort_idx[-10:]\n",
    "    print(f\"---------- Class: {classes[c]} ----------\")\n",
    "    print(\"上位\", feature[high_idx].tolist())\n",
    "    print(\"下位\", feature[low_idx].tolist())"
   ]
  },
  {
   "cell_type": "code",
   "execution_count": 143,
   "metadata": {},
   "outputs": [
    {
     "name": "stderr",
     "output_type": "stream",
     "text": [
      "/Users/nozomu/opt/anaconda3/lib/python3.9/site-packages/sklearn/linear_model/_logistic.py:760: RuntimeWarning: divide by zero encountered in double_scalars\n",
      "  args=(X, target, 1. / C, sample_weight),\n",
      "/Users/nozomu/opt/anaconda3/lib/python3.9/site-packages/sklearn/linear_model/_logistic.py:300: RuntimeWarning: invalid value encountered in double_scalars\n",
      "  loss += 0.5 * alpha * squared_norm(w)\n",
      "/Users/nozomu/opt/anaconda3/lib/python3.9/site-packages/sklearn/linear_model/_logistic.py:352: RuntimeWarning: invalid value encountered in multiply\n",
      "  grad[:, :n_features] += alpha * w\n",
      "/Users/nozomu/opt/anaconda3/lib/python3.9/site-packages/sklearn/linear_model/_logistic.py:763: ConvergenceWarning: lbfgs failed to converge (status=2):\n",
      "ABNORMAL_TERMINATION_IN_LNSRCH.\n",
      "\n",
      "Increase the number of iterations (max_iter) or scale the data as shown in:\n",
      "    https://scikit-learn.org/stable/modules/preprocessing.html\n",
      "Please also refer to the documentation for alternative solver options:\n",
      "    https://scikit-learn.org/stable/modules/linear_model.html#logistic-regression\n",
      "  n_iter_i = _check_optimize_result(\n"
     ]
    },
    {
     "data": {
      "text/plain": [
       "<matplotlib.legend.Legend at 0x7fb6a26bba60>"
      ]
     },
     "execution_count": 143,
     "metadata": {},
     "output_type": "execute_result"
    },
    {
     "data": {
      "image/png": "[encoded data removed]",
      "text/plain": [
       "<Figure size 576x360 with 1 Axes>"
      ]
     },
     "metadata": {
      "needs_background": "light"
     },
     "output_type": "display_data"
    }
   ],
   "source": [
    "# 8\n",
    "from sklearn.linear_model import LogisticRegression\n",
    "from sklearn.metrics import accuracy_score\n",
    "\n",
    "train_x = pd.read_csv(\"train.feature.txt\", sep=\"\\t\")\n",
    "train_y = pd.read_csv(\"train.txt\", sep=\"\\t\")[\"CATEGORY\"]\n",
    "valid_x = pd.read_csv(\"valid.feature.txt\", sep=\"\\t\")\n",
    "valid_y = pd.read_csv(\"valid.txt\", sep=\"\\t\")[\"CATEGORY\"]\n",
    "test_x = pd.read_csv(\"test.feature.txt\", sep=\"\\t\")\n",
    "test_y = pd.read_csv(\"test.txt\", sep=\"\\t\")[\"CATEGORY\"]\n",
    "\n",
    "train_score, valid_score, test_score = [], [], []\n",
    "params = np.linspace(0, 5, 11)\n",
    "for param in params:\n",
    "    model = LogisticRegression(random_state=42, max_iter=1000, C=param)\n",
    "    model.fit(train_x, train_y)\n",
    "    pred = model.predict(train_x)\n",
    "    train_score.append(accuracy_score(train_y, pred))\n",
    "    pred = model.predict(valid_x)\n",
    "    valid_score.append(accuracy_score(valid_y, pred))\n",
    "    pred = model.predict(test_x)\n",
    "    test_score.append(accuracy_score(test_y, pred))\n",
    "\n",
    "plt.figure(figsize=(8, 5))\n",
    "plt.plot(params, train_score, label=\"Train\")\n",
    "plt.plot(params, valid_score, label=\"Valid\")\n",
    "plt.plot(params, test_score, label=\"Test\")\n",
    "plt.ylabel(\"Accuracy\", fontsize=14)\n",
    "plt.xlabel(\"Hyper Parameter\", fontsize=14)\n",
    "plt.legend()"
   ]
  },
  {
   "cell_type": "code",
   "execution_count": 156,
   "metadata": {},
   "outputs": [],
   "source": [
    "# 9\n",
    "import optuna\n",
    "from sklearn.svm import SVC\n",
    "from sklearn.linear_model import LogisticRegression\n",
    "from sklearn.ensemble import RandomForestClassifier\n",
    "from sklearn.metrics import accuracy_score\n",
    "\n",
    "def objective(trial):\n",
    "    classifier_name = trial.suggest_categorical(\n",
    "        \"classifier\",\n",
    "        [\n",
    "            \"LogisticRegression\",\n",
    "            \"SVC\",\n",
    "            \"RandomForest\"\n",
    "        ]\n",
    "    )\n",
    "\n",
    "    train_x = pd.read_csv(\"train.feature.txt\", sep=\"\\t\")\n",
    "    train_y = pd.read_csv(\"train.txt\", sep=\"\\t\")[\"CATEGORY\"]\n",
    "    valid_x = pd.read_csv(\"valid.feature.txt\", sep=\"\\t\")\n",
    "    valid_y = pd.read_csv(\"valid.txt\", sep=\"\\t\")[\"CATEGORY\"]\n",
    "    test_x = pd.read_csv(\"test.feature.txt\", sep=\"\\t\")\n",
    "    test_y = pd.read_csv(\"test.txt\", sep=\"\\t\")[\"CATEGORY\"]\n",
    "\n",
    "    if classifier_name == \"LogisticRegression\":\n",
    "        logreg_c = trial.suggest_float(\n",
    "            \"logreg_c\",\n",
    "            1e-10, 100,\n",
    "            log=True\n",
    "        )\n",
    "        classifier = LogisticRegression(\n",
    "            C=logreg_c,\n",
    "            random_state=42\n",
    "        )\n",
    "    elif classifier_name == \"SVC\":\n",
    "        svc_c = trial.suggest_float(\n",
    "            \"logreg_c\",\n",
    "            1e-10, 100,\n",
    "            log=True\n",
    "        )\n",
    "        classifier = SVC(\n",
    "            C=svc_c,\n",
    "            random_state=42\n",
    "        )\n",
    "    else:\n",
    "        rf_n_estimators = trial.suggest_int(\n",
    "            \"rf_n_estimators\",\n",
    "            1, 100\n",
    "        )\n",
    "        rf_max_depth = trial.suggest_int(\n",
    "            \"rf_max_depth\",\n",
    "            1, 100,\n",
    "        )\n",
    "        classifier = RandomForestClassifier(\n",
    "            n_estimators=rf_n_estimators,\n",
    "            max_depth=rf_max_depth,\n",
    "            random_state=42\n",
    "        )\n",
    "    \n",
    "    model.fit(train_x, train_y)\n",
    "    pred = model.predict(valid_x)\n",
    "    score = accuracy_score(valid_y, pred)\n",
    "\n",
    "    return score"
   ]
  },
  {
   "cell_type": "code",
   "execution_count": null,
   "metadata": {},
   "outputs": [],
   "source": [
    "study = optuna.create_study(direction=\"maximize\")\n",
    "study.optimize(objective, timeout=3600)\n",
    "\n",
    "print(\"Best trial:\")\n",
    "trial = study.best_trial\n",
    "print(\"  Value: {:.3f}\".format(trial.value))\n",
    "print(\"  Params: \")\n",
    "for key, value in trial.params.items():\n",
    "  print(\"    {}: {}\".format(key, value))"
   ]
  },
  {
   "cell_type": "code",
   "execution_count": null,
   "metadata": {},
   "outputs": [],
   "source": []
  }
 ],
 "metadata": {
  "kernelspec": {
   "display_name": "base",
   "language": "python",
   "name": "python3"
  },
  "language_info": {
   "codemirror_mode": {
    "name": "ipython",
    "version": 3
   },
   "file_extension": ".py",
   "mimetype": "text/x-python",
   "name": "python",
   "nbconvert_exporter": "python",
   "pygments_lexer": "ipython3",
   "version": "3.9.7"
  },
  "orig_nbformat": 4
 },
 "nbformat": 4,
 "nbformat_minor": 2
}
