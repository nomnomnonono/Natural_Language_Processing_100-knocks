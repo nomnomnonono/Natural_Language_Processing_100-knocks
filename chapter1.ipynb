{
 "cells": [
  {
   "cell_type": "code",
   "execution_count": 1,
   "metadata": {},
   "outputs": [
    {
     "name": "stdout",
     "output_type": "stream",
     "text": [
      "desserts\n"
     ]
    }
   ],
   "source": [
    "# 0\n",
    "s = \"stressed\"\n",
    "print(s[::-1])"
   ]
  },
  {
   "cell_type": "code",
   "execution_count": 2,
   "metadata": {},
   "outputs": [
    {
     "name": "stdout",
     "output_type": "stream",
     "text": [
      "パトカー\n"
     ]
    }
   ],
   "source": [
    "# 1\n",
    "s = \"パタトクカシーー\"\n",
    "print(s[::2])"
   ]
  },
  {
   "cell_type": "code",
   "execution_count": 3,
   "metadata": {},
   "outputs": [
    {
     "name": "stdout",
     "output_type": "stream",
     "text": [
      "パタトクカシーー\n"
     ]
    }
   ],
   "source": [
    "# 2\n",
    "s = \"パトカー\"\n",
    "t = \"タクシー\"\n",
    "print(\"\".join(s[i] + t[i] for i in range(len(s))))"
   ]
  },
  {
   "cell_type": "code",
   "execution_count": 4,
   "metadata": {},
   "outputs": [
    {
     "name": "stdout",
     "output_type": "stream",
     "text": [
      "[3, 1, 4, 1, 5, 9, 2, 6, 5, 3, 5, 8, 9, 7, 9]\n"
     ]
    }
   ],
   "source": [
    "# 3\n",
    "import re\n",
    "\n",
    "s = \"Now I need a drink, alcoholic of course, after the heavy lectures involving quantum mechanics.\"\n",
    "s = re.sub(\"[.|,]\", \"\", s).split(\" \")\n",
    "print([len(i) for i in s])"
   ]
  },
  {
   "cell_type": "code",
   "execution_count": 5,
   "metadata": {},
   "outputs": [
    {
     "name": "stdout",
     "output_type": "stream",
     "text": [
      "{'H': 1, 'He': 2, 'Li': 3, 'Be': 4, 'B': 5, 'C': 6, 'N': 7, 'O': 8, 'F': 9, 'Ne': 10, 'Na': 11, 'Mi': 12, 'Al': 13, 'Si': 14, 'P': 15, 'S': 16, 'Cl': 17, 'Ar': 18, 'K': 19, 'Ca': 20}\n"
     ]
    }
   ],
   "source": [
    "# 4\n",
    "s = \"Hi He Lied Because Boron Could Not Oxidize Fluorine. New Nations Might Also Sign Peace Security Clause. Arthur King Can.\"\n",
    "idx = [1, 5, 6, 7, 8, 9, 15, 16, 19]\n",
    "\n",
    "res = {}\n",
    "for i, word in enumerate(s.split()):\n",
    "    if i+1 in idx:\n",
    "        res[word[0]] = i+1\n",
    "    else:\n",
    "        res[word[:2]] = i+1\n",
    "print(res)"
   ]
  },
  {
   "cell_type": "code",
   "execution_count": 6,
   "metadata": {},
   "outputs": [
    {
     "name": "stdout",
     "output_type": "stream",
     "text": [
      "['I ', ' a', 'am', 'm ', ' a', 'an', 'n ', ' N', 'NL', 'LP', 'Pe', 'er']\n",
      "[['I', 'am'], ['am', 'an'], ['an', 'NLPer']]\n"
     ]
    }
   ],
   "source": [
    "# 5\n",
    "def ngram(n, seq):\n",
    "    return [seq[i:i+n] for i in range(len(seq) - n + 1)]\n",
    "\n",
    "s = \"I am an NLPer\"\n",
    "print(ngram(2, s))\n",
    "print(ngram(2, s.split()))"
   ]
  },
  {
   "cell_type": "code",
   "execution_count": 7,
   "metadata": {},
   "outputs": [
    {
     "name": "stdout",
     "output_type": "stream",
     "text": [
      "{'ra', 'se', 'ap', 'is', 'pa', 'ar', 'ag', 'ph', 'ad', 'gr', 'di'}\n",
      "{'ra', 'pa', 'ar', 'ap'}\n",
      "{'di', 'ad', 'is', 'se'}\n",
      "True\n",
      "False\n"
     ]
    }
   ],
   "source": [
    "# 6\n",
    "s = \"paraparaparadise\"\n",
    "t = \"paragraph\"\n",
    "s_bigram, t_bigram = set(ngram(2, s)), set(ngram(2, t))\n",
    "print(s_bigram | t_bigram)\n",
    "print(s_bigram & t_bigram)\n",
    "print(s_bigram - t_bigram)\n",
    "print(\"se\" in s_bigram)\n",
    "print(\"se\" in t_bigram)"
   ]
  },
  {
   "cell_type": "code",
   "execution_count": 8,
   "metadata": {},
   "outputs": [
    {
     "name": "stdout",
     "output_type": "stream",
     "text": [
      "12時の気温は22.4\n"
     ]
    }
   ],
   "source": [
    "# 7\n",
    "def template(x, y, z):\n",
    "    return f\"{x}時の{y}は{z}\"\n",
    "print(template(12, \"気温\", 22.4))"
   ]
  },
  {
   "cell_type": "code",
   "execution_count": 22,
   "metadata": {},
   "outputs": [
    {
     "name": "stdout",
     "output_type": "stream",
     "text": [
      "xsrkvi\n"
     ]
    }
   ],
   "source": [
    "# 8\n",
    "def chiper(seq):\n",
    "    return \"\".join([chr(219 - ord(s)) if s.islower() else s for s in seq])\n",
    "\n",
    "print(chiper(\"chiper\"))"
   ]
  },
  {
   "cell_type": "code",
   "execution_count": 29,
   "metadata": {},
   "outputs": [
    {
     "data": {
      "text/plain": [
       "'234'"
      ]
     },
     "execution_count": 29,
     "metadata": {},
     "output_type": "execute_result"
    }
   ],
   "source": [
    "s = \"12345\"\n",
    "import random\n",
    "s[1:-1]\n",
    "\"\".join(random.sample(s[1:-1], 3))"
   ]
  },
  {
   "cell_type": "code",
   "execution_count": 31,
   "metadata": {},
   "outputs": [
    {
     "data": {
      "text/plain": [
       "'I cuodl’nt bveleie that I colud alultcay urdenstand what I was riadneg : the peannomhel pweor of the human mind .'"
      ]
     },
     "execution_count": 31,
     "metadata": {},
     "output_type": "execute_result"
    }
   ],
   "source": [
    "# 9\n",
    "def shuffle(seq):\n",
    "    result = []\n",
    "    for word in seq.split(\" \"):\n",
    "        if len(word) > 4:\n",
    "            word = word[0] + \"\".join(random.sample(word[1:-1], len(word)-2)) + word[-1]\n",
    "        result.append(word)\n",
    "    return \" \".join(result)\n",
    "\n",
    "s = \"I couldn’t believe that I could actually understand what I was reading : the phenomenal power of the human mind .\"\n",
    "shuffle(s)"
   ]
  }
 ],
 "metadata": {
  "kernelspec": {
   "display_name": "base",
   "language": "python",
   "name": "python3"
  },
  "language_info": {
   "codemirror_mode": {
    "name": "ipython",
    "version": 3
   },
   "file_extension": ".py",
   "mimetype": "text/x-python",
   "name": "python",
   "nbconvert_exporter": "python",
   "pygments_lexer": "ipython3",
   "version": "3.9.7"
  },
  "orig_nbformat": 4
 },
 "nbformat": 4,
 "nbformat_minor": 2
}
