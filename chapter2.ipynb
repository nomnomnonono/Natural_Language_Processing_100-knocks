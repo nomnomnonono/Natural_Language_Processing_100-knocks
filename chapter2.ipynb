{
 "cells": [
  {
   "cell_type": "code",
   "execution_count": 1,
   "metadata": {},
   "outputs": [
    {
     "name": "stdout",
     "output_type": "stream",
     "text": [
      "    2780 popular-names.txt\n"
     ]
    }
   ],
   "source": [
    "# 0\n",
    "!wc -l popular-names.txt"
   ]
  },
  {
   "cell_type": "code",
   "execution_count": 2,
   "metadata": {},
   "outputs": [
    {
     "name": "stdout",
     "output_type": "stream",
     "text": [
      "Mary F 7065 1880\n",
      "Anna F 2604 1880\n",
      "Emma F 2003 1880\n",
      "Elizabeth F 1939 1880\n",
      "Minnie F 1746 1880\n",
      "sed: stdout: Broken pipe\n"
     ]
    }
   ],
   "source": [
    "# 1\n",
    "!sed -e 's/\\t/ /g' popular-names.txt | head -n 5"
   ]
  },
  {
   "cell_type": "code",
   "execution_count": 24,
   "metadata": {},
   "outputs": [
    {
     "data": {
      "text/plain": [
       "0         Mary\n",
       "1         Anna\n",
       "2         Emma\n",
       "3    Elizabeth\n",
       "4       Minnie\n",
       "Name: 0, dtype: object"
      ]
     },
     "execution_count": 24,
     "metadata": {},
     "output_type": "execute_result"
    }
   ],
   "source": [
    "# 2\n",
    "import pandas as pd\n",
    "\n",
    "df = pd.read_table(\"popular-names.txt\", sep=\"\\t\", header=None)\n",
    "df.loc[:, 0].to_csv(\"col1.txt\", header=False, index=False)\n",
    "df.loc[:, 1].to_csv(\"col2.txt\", header=False, index=False)\n",
    "\n",
    "df.loc[:, 0].head()"
   ]
  },
  {
   "cell_type": "code",
   "execution_count": 25,
   "metadata": {},
   "outputs": [
    {
     "name": "stdout",
     "output_type": "stream",
     "text": [
      "Mary\n",
      "Anna\n",
      "Emma\n",
      "Elizabeth\n",
      "Minnie\n"
     ]
    }
   ],
   "source": [
    "!cut -f 1 popular-names.txt | head -n 5"
   ]
  },
  {
   "cell_type": "code",
   "execution_count": 31,
   "metadata": {},
   "outputs": [
    {
     "data": {
      "text/html": [
       "<div>\n",
       "<style scoped>\n",
       "    .dataframe tbody tr th:only-of-type {\n",
       "        vertical-align: middle;\n",
       "    }\n",
       "\n",
       "    .dataframe tbody tr th {\n",
       "        vertical-align: top;\n",
       "    }\n",
       "\n",
       "    .dataframe thead th {\n",
       "        text-align: right;\n",
       "    }\n",
       "</style>\n",
       "<table border=\"1\" class=\"dataframe\">\n",
       "  <thead>\n",
       "    <tr style=\"text-align: right;\">\n",
       "      <th></th>\n",
       "      <th>0</th>\n",
       "      <th>0</th>\n",
       "    </tr>\n",
       "  </thead>\n",
       "  <tbody>\n",
       "    <tr>\n",
       "      <th>0</th>\n",
       "      <td>Mary</td>\n",
       "      <td>F</td>\n",
       "    </tr>\n",
       "    <tr>\n",
       "      <th>1</th>\n",
       "      <td>Anna</td>\n",
       "      <td>F</td>\n",
       "    </tr>\n",
       "    <tr>\n",
       "      <th>2</th>\n",
       "      <td>Emma</td>\n",
       "      <td>F</td>\n",
       "    </tr>\n",
       "    <tr>\n",
       "      <th>3</th>\n",
       "      <td>Elizabeth</td>\n",
       "      <td>F</td>\n",
       "    </tr>\n",
       "    <tr>\n",
       "      <th>4</th>\n",
       "      <td>Minnie</td>\n",
       "      <td>F</td>\n",
       "    </tr>\n",
       "  </tbody>\n",
       "</table>\n",
       "</div>"
      ],
      "text/plain": [
       "           0  0\n",
       "0       Mary  F\n",
       "1       Anna  F\n",
       "2       Emma  F\n",
       "3  Elizabeth  F\n",
       "4     Minnie  F"
      ]
     },
     "execution_count": 31,
     "metadata": {},
     "output_type": "execute_result"
    }
   ],
   "source": [
    "# 3\n",
    "col1 = pd.read_table(\"col1.txt\", header=None)\n",
    "col2 = pd.read_table(\"col2.txt\", header=None)\n",
    "table = pd.concat([col1, col2], axis=1)\n",
    "table.to_csv(\"merged.txt\", sep=\"\\t\", header=False, index=False)\n",
    "table.head()"
   ]
  },
  {
   "cell_type": "code",
   "execution_count": 32,
   "metadata": {},
   "outputs": [
    {
     "name": "stdout",
     "output_type": "stream",
     "text": [
      "Mary\tF\n",
      "Anna\tF\n",
      "Emma\tF\n",
      "Elizabeth\tF\n",
      "Minnie\tF\n"
     ]
    }
   ],
   "source": [
    "!paste col1.txt col2.txt | head -n 5"
   ]
  },
  {
   "cell_type": "code",
   "execution_count": 34,
   "metadata": {},
   "outputs": [
    {
     "data": {
      "text/html": [
       "<div>\n",
       "<style scoped>\n",
       "    .dataframe tbody tr th:only-of-type {\n",
       "        vertical-align: middle;\n",
       "    }\n",
       "\n",
       "    .dataframe tbody tr th {\n",
       "        vertical-align: top;\n",
       "    }\n",
       "\n",
       "    .dataframe thead th {\n",
       "        text-align: right;\n",
       "    }\n",
       "</style>\n",
       "<table border=\"1\" class=\"dataframe\">\n",
       "  <thead>\n",
       "    <tr style=\"text-align: right;\">\n",
       "      <th></th>\n",
       "      <th>0</th>\n",
       "      <th>1</th>\n",
       "      <th>2</th>\n",
       "      <th>3</th>\n",
       "    </tr>\n",
       "  </thead>\n",
       "  <tbody>\n",
       "    <tr>\n",
       "      <th>0</th>\n",
       "      <td>Mary</td>\n",
       "      <td>F</td>\n",
       "      <td>7065</td>\n",
       "      <td>1880</td>\n",
       "    </tr>\n",
       "    <tr>\n",
       "      <th>1</th>\n",
       "      <td>Anna</td>\n",
       "      <td>F</td>\n",
       "      <td>2604</td>\n",
       "      <td>1880</td>\n",
       "    </tr>\n",
       "    <tr>\n",
       "      <th>2</th>\n",
       "      <td>Emma</td>\n",
       "      <td>F</td>\n",
       "      <td>2003</td>\n",
       "      <td>1880</td>\n",
       "    </tr>\n",
       "    <tr>\n",
       "      <th>3</th>\n",
       "      <td>Elizabeth</td>\n",
       "      <td>F</td>\n",
       "      <td>1939</td>\n",
       "      <td>1880</td>\n",
       "    </tr>\n",
       "    <tr>\n",
       "      <th>4</th>\n",
       "      <td>Minnie</td>\n",
       "      <td>F</td>\n",
       "      <td>1746</td>\n",
       "      <td>1880</td>\n",
       "    </tr>\n",
       "  </tbody>\n",
       "</table>\n",
       "</div>"
      ],
      "text/plain": [
       "           0  1     2     3\n",
       "0       Mary  F  7065  1880\n",
       "1       Anna  F  2604  1880\n",
       "2       Emma  F  2003  1880\n",
       "3  Elizabeth  F  1939  1880\n",
       "4     Minnie  F  1746  1880"
      ]
     },
     "execution_count": 34,
     "metadata": {},
     "output_type": "execute_result"
    }
   ],
   "source": [
    "# 4\n",
    "df = pd.read_table(\"popular-names.txt\", header=None, sep=\"\\t\")\n",
    "n = int(input())\n",
    "df.head(n)"
   ]
  },
  {
   "cell_type": "code",
   "execution_count": 36,
   "metadata": {},
   "outputs": [
    {
     "name": "stdout",
     "output_type": "stream",
     "text": [
      "Mary\tF\t7065\t1880\n",
      "Anna\tF\t2604\t1880\n",
      "Emma\tF\t2003\t1880\n",
      "Elizabeth\tF\t1939\t1880\n",
      "Minnie\tF\t1746\t1880\n"
     ]
    }
   ],
   "source": [
    "!head -n 5 popular-names.txt"
   ]
  },
  {
   "cell_type": "code",
   "execution_count": 37,
   "metadata": {},
   "outputs": [
    {
     "data": {
      "text/html": [
       "<div>\n",
       "<style scoped>\n",
       "    .dataframe tbody tr th:only-of-type {\n",
       "        vertical-align: middle;\n",
       "    }\n",
       "\n",
       "    .dataframe tbody tr th {\n",
       "        vertical-align: top;\n",
       "    }\n",
       "\n",
       "    .dataframe thead th {\n",
       "        text-align: right;\n",
       "    }\n",
       "</style>\n",
       "<table border=\"1\" class=\"dataframe\">\n",
       "  <thead>\n",
       "    <tr style=\"text-align: right;\">\n",
       "      <th></th>\n",
       "      <th>0</th>\n",
       "      <th>1</th>\n",
       "      <th>2</th>\n",
       "      <th>3</th>\n",
       "    </tr>\n",
       "  </thead>\n",
       "  <tbody>\n",
       "    <tr>\n",
       "      <th>2775</th>\n",
       "      <td>Benjamin</td>\n",
       "      <td>M</td>\n",
       "      <td>13381</td>\n",
       "      <td>2018</td>\n",
       "    </tr>\n",
       "    <tr>\n",
       "      <th>2776</th>\n",
       "      <td>Elijah</td>\n",
       "      <td>M</td>\n",
       "      <td>12886</td>\n",
       "      <td>2018</td>\n",
       "    </tr>\n",
       "    <tr>\n",
       "      <th>2777</th>\n",
       "      <td>Lucas</td>\n",
       "      <td>M</td>\n",
       "      <td>12585</td>\n",
       "      <td>2018</td>\n",
       "    </tr>\n",
       "    <tr>\n",
       "      <th>2778</th>\n",
       "      <td>Mason</td>\n",
       "      <td>M</td>\n",
       "      <td>12435</td>\n",
       "      <td>2018</td>\n",
       "    </tr>\n",
       "    <tr>\n",
       "      <th>2779</th>\n",
       "      <td>Logan</td>\n",
       "      <td>M</td>\n",
       "      <td>12352</td>\n",
       "      <td>2018</td>\n",
       "    </tr>\n",
       "  </tbody>\n",
       "</table>\n",
       "</div>"
      ],
      "text/plain": [
       "             0  1      2     3\n",
       "2775  Benjamin  M  13381  2018\n",
       "2776    Elijah  M  12886  2018\n",
       "2777     Lucas  M  12585  2018\n",
       "2778     Mason  M  12435  2018\n",
       "2779     Logan  M  12352  2018"
      ]
     },
     "execution_count": 37,
     "metadata": {},
     "output_type": "execute_result"
    }
   ],
   "source": [
    "# 5\n",
    "df = pd.read_table(\"popular-names.txt\", header=None, sep=\"\\t\")\n",
    "n = int(input())\n",
    "df.tail(n)"
   ]
  },
  {
   "cell_type": "code",
   "execution_count": 38,
   "metadata": {},
   "outputs": [
    {
     "name": "stdout",
     "output_type": "stream",
     "text": [
      "Benjamin\tM\t13381\t2018\n",
      "Elijah\tM\t12886\t2018\n",
      "Lucas\tM\t12585\t2018\n",
      "Mason\tM\t12435\t2018\n",
      "Logan\tM\t12352\t2018\n"
     ]
    }
   ],
   "source": [
    "!tail -n 5 popular-names.txt"
   ]
  },
  {
   "cell_type": "code",
   "execution_count": 42,
   "metadata": {},
   "outputs": [],
   "source": [
    "# 6\n",
    "import numpy as np\n",
    "\n",
    "df = pd.read_table(\"popular-names.txt\", header=None, sep=\"\\t\")\n",
    "n = int(input())\n",
    "chunks = np.split(df, n)\n",
    "for i, chunk in enumerate(chunks):\n",
    "    chunk.to_csv(f\"split{i}.txt\", header=False, index=False)"
   ]
  },
  {
   "cell_type": "code",
   "execution_count": 46,
   "metadata": {},
   "outputs": [],
   "source": [
    "!split -l 500 popular-names.txt split"
   ]
  },
  {
   "cell_type": "code",
   "execution_count": 44,
   "metadata": {},
   "outputs": [
    {
     "data": {
      "text/plain": [
       "136"
      ]
     },
     "execution_count": 44,
     "metadata": {},
     "output_type": "execute_result"
    }
   ],
   "source": [
    "# 7\n",
    "df = pd.read_table(\"popular-names.txt\", header=None, sep=\"\\t\")\n",
    "len(set(df.loc[:, 0]))\n",
    "# len(df.drop_duplicates(subset='name'))"
   ]
  },
  {
   "cell_type": "code",
   "execution_count": 68,
   "metadata": {},
   "outputs": [
    {
     "name": "stdout",
     "output_type": "stream",
     "text": [
      "     136\n"
     ]
    }
   ],
   "source": [
    "!cut -f 1 popular-names.txt | sort | uniq | wc -l"
   ]
  },
  {
   "cell_type": "code",
   "execution_count": 58,
   "metadata": {},
   "outputs": [
    {
     "data": {
      "text/html": [
       "<div>\n",
       "<style scoped>\n",
       "    .dataframe tbody tr th:only-of-type {\n",
       "        vertical-align: middle;\n",
       "    }\n",
       "\n",
       "    .dataframe tbody tr th {\n",
       "        vertical-align: top;\n",
       "    }\n",
       "\n",
       "    .dataframe thead th {\n",
       "        text-align: right;\n",
       "    }\n",
       "</style>\n",
       "<table border=\"1\" class=\"dataframe\">\n",
       "  <thead>\n",
       "    <tr style=\"text-align: right;\">\n",
       "      <th></th>\n",
       "      <th>name</th>\n",
       "      <th>sex</th>\n",
       "      <th>num</th>\n",
       "      <th>year</th>\n",
       "    </tr>\n",
       "  </thead>\n",
       "  <tbody>\n",
       "    <tr>\n",
       "      <th>1340</th>\n",
       "      <td>Linda</td>\n",
       "      <td>F</td>\n",
       "      <td>99689</td>\n",
       "      <td>1947</td>\n",
       "    </tr>\n",
       "    <tr>\n",
       "      <th>1360</th>\n",
       "      <td>Linda</td>\n",
       "      <td>F</td>\n",
       "      <td>96211</td>\n",
       "      <td>1948</td>\n",
       "    </tr>\n",
       "    <tr>\n",
       "      <th>1350</th>\n",
       "      <td>James</td>\n",
       "      <td>M</td>\n",
       "      <td>94757</td>\n",
       "      <td>1947</td>\n",
       "    </tr>\n",
       "    <tr>\n",
       "      <th>1550</th>\n",
       "      <td>Michael</td>\n",
       "      <td>M</td>\n",
       "      <td>92704</td>\n",
       "      <td>1957</td>\n",
       "    </tr>\n",
       "    <tr>\n",
       "      <th>1351</th>\n",
       "      <td>Robert</td>\n",
       "      <td>M</td>\n",
       "      <td>91640</td>\n",
       "      <td>1947</td>\n",
       "    </tr>\n",
       "  </tbody>\n",
       "</table>\n",
       "</div>"
      ],
      "text/plain": [
       "         name sex    num  year\n",
       "1340    Linda   F  99689  1947\n",
       "1360    Linda   F  96211  1948\n",
       "1350    James   M  94757  1947\n",
       "1550  Michael   M  92704  1957\n",
       "1351   Robert   M  91640  1947"
      ]
     },
     "execution_count": 58,
     "metadata": {},
     "output_type": "execute_result"
    }
   ],
   "source": [
    "# 8\n",
    "df = pd.read_table(\"popular-names.txt\", header=None, sep=\"\\t\", names=[\"name\", \"sex\", \"num\", \"year\"])\n",
    "df.sort_values(by=\"num\", ascending=False, inplace=True)\n",
    "df.head()"
   ]
  },
  {
   "cell_type": "code",
   "execution_count": 59,
   "metadata": {},
   "outputs": [
    {
     "name": "stdout",
     "output_type": "stream",
     "text": [
      "Linda\tF\t99689\t1947\n",
      "Linda\tF\t96211\t1948\n",
      "James\tM\t94757\t1947\n",
      "Michael\tM\t92704\t1957\n",
      "Robert\tM\t91640\t1947\n",
      "sort: Broken pipe\n"
     ]
    }
   ],
   "source": [
    "!cat popular-names.txt | sort -rnk 3 | head -n 5"
   ]
  },
  {
   "cell_type": "code",
   "execution_count": 67,
   "metadata": {},
   "outputs": [
    {
     "data": {
      "text/plain": [
       "James      118\n",
       "William    111\n",
       "Robert     108\n",
       "John       108\n",
       "Mary        92\n",
       "          ... \n",
       "Scott        1\n",
       "Rachel       1\n",
       "Kelly        1\n",
       "Crystal      1\n",
       "Lucas        1\n",
       "Name: 0, Length: 136, dtype: int64"
      ]
     },
     "execution_count": 67,
     "metadata": {},
     "output_type": "execute_result"
    }
   ],
   "source": [
    "# 9\n",
    "df = pd.read_table(\"popular-names.txt\", header=None, sep=\"\\t\")\n",
    "df.iloc[:, 0].value_counts()"
   ]
  },
  {
   "cell_type": "code",
   "execution_count": 69,
   "metadata": {},
   "outputs": [
    {
     "name": "stdout",
     "output_type": "stream",
     "text": [
      " 118 James\n",
      " 111 William\n",
      " 108 Robert\n",
      " 108 John\n",
      "  92 Mary\n",
      "  75 Charles\n",
      "  74 Michael\n",
      "  73 Elizabeth\n",
      "  70 Joseph\n",
      "  60 Margaret\n",
      "  58 Thomas\n",
      "  58 George\n",
      "  57 David\n",
      "  51 Richard\n",
      "  45 Helen\n",
      "  43 Frank\n",
      "  43 Christopher\n",
      "  41 Anna\n",
      "  40 Edward\n",
      "  39 Ruth\n",
      "  38 Patricia\n",
      "  37 Matthew\n",
      "  36 Dorothy\n",
      "  35 Emma\n",
      "  32 Barbara\n",
      "  31 Joshua\n",
      "  31 Daniel\n",
      "  26 Sarah\n",
      "  26 Linda\n",
      "  26 Jennifer\n",
      "  26 Emily\n",
      "  25 Jessica\n",
      "  25 Jacob\n",
      "  24 Susan\n",
      "  24 Mildred\n",
      "  24 Betty\n",
      "  23 Henry\n",
      "  23 Ashley\n",
      "  22 Nancy\n",
      "  21 Andrew\n",
      "  20 Marie\n",
      "  20 Florence\n",
      "  20 Donald\n",
      "  20 Amanda\n",
      "  19 Samantha\n",
      "  18 Olivia\n",
      "  18 Melissa\n",
      "  18 Madison\n",
      "  18 Lisa\n",
      "  18 Karen\n",
      "  17 Stephanie\n",
      "  17 Abigail\n",
      "  16 Sandra\n",
      "  16 Mark\n",
      "  16 Ethel\n",
      "  15 Michelle\n",
      "  15 Isabella\n",
      "  15 Heather\n",
      "  15 Frances\n",
      "  15 Ethan\n",
      "  15 Carol\n",
      "  15 Angela\n",
      "  14 Shirley\n",
      "  14 Kimberly\n",
      "  14 Ava\n",
      "  14 Amy\n",
      "  13 Virginia\n",
      "  13 Sophia\n",
      "  13 Nicole\n",
      "  13 Jason\n",
      "  13 Hannah\n",
      "  13 Deborah\n",
      "  13 Brian\n",
      "  12 Minnie\n",
      "  12 Donna\n",
      "  12 Bertha\n",
      "  11 Cynthia\n",
      "  10 Ronald\n",
      "  10 Noah\n",
      "  10 Nicholas\n",
      "  10 Mia\n",
      "  10 Doris\n",
      "  10 Brittany\n",
      "  10 Alice\n",
      "   9 Tyler\n",
      "   9 Joan\n",
      "   9 Debra\n",
      "   8 Taylor\n",
      "   8 Mason\n",
      "   8 Judith\n",
      "   8 Ida\n",
      "   8 Clara\n",
      "   8 Alexis\n",
      "   8 Alexander\n",
      "   7 Tammy\n",
      "   7 Steven\n",
      "   7 Sharon\n",
      "   7 Liam\n",
      "   7 Harry\n",
      "   7 Brandon\n",
      "   6 Anthony\n",
      "   5 Jeffrey\n",
      "   5 Jayden\n",
      "   5 Gary\n",
      "   5 Charlotte\n",
      "   5 Annie\n",
      "   4 Lillian\n",
      "   4 Kathleen\n",
      "   4 Justin\n",
      "   4 Chloe\n",
      "   4 Benjamin\n",
      "   4 Austin\n",
      "   3 Megan\n",
      "   3 Harper\n",
      "   3 Evelyn\n",
      "   3 Elijah\n",
      "   3 Aiden\n",
      "   2 Rebecca\n",
      "   2 Oliver\n",
      "   2 Logan\n",
      "   2 Lauren\n",
      "   2 Larry\n",
      "   2 Bessie\n",
      "   2 Amelia\n",
      "   1 Walter\n",
      "   1 Tracy\n",
      "   1 Scott\n",
      "   1 Rachel\n",
      "   1 Pamela\n",
      "   1 Lucas\n",
      "   1 Lori\n",
      "   1 Laura\n",
      "   1 Kelly\n",
      "   1 Julie\n",
      "   1 Crystal\n",
      "   1 Carolyn\n"
     ]
    }
   ],
   "source": [
    "!cut -f 1 popular-names.txt | sort | uniq -c | sort -r"
   ]
  }
 ],
 "metadata": {
  "kernelspec": {
   "display_name": "base",
   "language": "python",
   "name": "python3"
  },
  "language_info": {
   "codemirror_mode": {
    "name": "ipython",
    "version": 3
   },
   "file_extension": ".py",
   "mimetype": "text/x-python",
   "name": "python",
   "nbconvert_exporter": "python",
   "pygments_lexer": "ipython3",
   "version": "3.9.7"
  },
  "orig_nbformat": 4
 },
 "nbformat": 4,
 "nbformat_minor": 2
}
