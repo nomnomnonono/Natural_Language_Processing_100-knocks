{
 "cells": [
  {
   "cell_type": "code",
   "execution_count": 71,
   "metadata": {},
   "outputs": [],
   "source": [
    "# 0\n",
    "results = []\n",
    "sentence = []\n",
    "\n",
    "with open(\"neko.txt.mecab\", \"r\") as f:\n",
    "    for line in f.readlines():\n",
    "        if line != \"EOS\\n\":\n",
    "            line = line.split(\"\\t\")\n",
    "            if len(line) != 2 or line[0] == \"\":\n",
    "                continue\n",
    "            attr = line[1].split(\",\")\n",
    "            word = {\"surface\": line[0], \"base\": attr[6], \"pos\": attr[0], \"pos1\": attr[2]}\n",
    "            sentence.append(word)\n",
    "        else:\n",
    "            if len(sentence) != 0:\n",
    "                results.append(sentence)\n",
    "                sentence = []"
   ]
  },
  {
   "cell_type": "code",
   "execution_count": 63,
   "metadata": {},
   "outputs": [
    {
     "name": "stdout",
     "output_type": "stream",
     "text": [
      "3893\n",
      "踊ら\n",
      "巡っ\n",
      "奪い合っ\n",
      "躍り出\n",
      "通れ\n"
     ]
    }
   ],
   "source": [
    "# 1\n",
    "ans = set()\n",
    "\n",
    "for result in results:\n",
    "    for word in result:\n",
    "        if word[\"pos\"] == \"動詞\":\n",
    "            ans.add(word[\"surface\"])\n",
    "\n",
    "print(len(ans))\n",
    "for i in list(ans)[:5]:\n",
    "    print(i)"
   ]
  },
  {
   "cell_type": "code",
   "execution_count": 64,
   "metadata": {},
   "outputs": [
    {
     "name": "stdout",
     "output_type": "stream",
     "text": [
      "2300\n",
      "かう\n",
      "遺す\n",
      "休める\n",
      "抱え込む\n",
      "罹る\n"
     ]
    }
   ],
   "source": [
    "# 2\n",
    "ans = set()\n",
    "\n",
    "for result in results:\n",
    "    for word in result:\n",
    "        if word[\"pos\"] == \"動詞\":\n",
    "            ans.add(word[\"base\"])\n",
    "\n",
    "print(len(ans))\n",
    "for i in list(ans)[:5]:\n",
    "    print(i)"
   ]
  },
  {
   "cell_type": "code",
   "execution_count": 73,
   "metadata": {},
   "outputs": [
    {
     "name": "stdout",
     "output_type": "stream",
     "text": [
      "4924\n",
      "弁護の労\n",
      "枯菊の茂み\n",
      "吾輩の事\n",
      "吾輩の手\n",
      "当家の令嬢\n"
     ]
    }
   ],
   "source": [
    "# 3\n",
    "ans = set()\n",
    "\n",
    "for result in results:\n",
    "    for i in range(1, len(result) - 1):\n",
    "        if result[i-1][\"pos\"] == \"名詞\" and result[i][\"surface\"] == \"の\" and result[i+1][\"pos\"] == \"名詞\":\n",
    "            ans.add(result[i-1][\"surface\"] + result[i][\"surface\"] + result[i+1][\"surface\"])\n",
    "\n",
    "print(len(ans))\n",
    "for i in list(ans)[:5]:\n",
    "    print(i)"
   ]
  },
  {
   "cell_type": "code",
   "execution_count": 74,
   "metadata": {},
   "outputs": [
    {
     "name": "stdout",
     "output_type": "stream",
     "text": [
      "4457\n",
      "二匹\n",
      "系統内\n",
      "三面攻撃\n",
      "毛中\n",
      "古井武右衛門\n"
     ]
    }
   ],
   "source": [
    "# 4\n",
    "ans = set()\n",
    "\n",
    "for result in results:\n",
    "    count = 0\n",
    "    sentence = \"\"\n",
    "    for word in result:\n",
    "        if word[\"pos\"] == \"名詞\":\n",
    "            sentence += word[\"surface\"]\n",
    "            count += 1\n",
    "        elif count >= 2:\n",
    "            ans.add(sentence)\n",
    "            count = 0\n",
    "            sentence = \"\"\n",
    "        else:\n",
    "            count = 0\n",
    "            sentence = \"\"\n",
    "    if count >= 2:\n",
    "        ans.add(sentence)\n",
    "\n",
    "print(len(ans))\n",
    "for i in list(ans)[:5]:\n",
    "    print(i)"
   ]
  },
  {
   "cell_type": "code",
   "execution_count": 83,
   "metadata": {},
   "outputs": [
    {
     "name": "stdout",
     "output_type": "stream",
     "text": [
      "13559\n",
      "('の', 9194)\n",
      "('て', 6868)\n",
      "('は', 6420)\n",
      "('に', 6243)\n",
      "('を', 6071)\n"
     ]
    }
   ],
   "source": [
    "# 5\n",
    "from collections import defaultdict\n",
    "\n",
    "ans = defaultdict(int)\n",
    "for result in results:\n",
    "    for word in result:\n",
    "        if word[\"pos\"] != \"記号\":\n",
    "            ans[word[\"surface\"]] += 1\n",
    "\n",
    "ans = sorted(ans.items(), key=lambda x: x[1], reverse=True)\n",
    "print(len(ans))\n",
    "for i in ans[:5]:\n",
    "    print(i)"
   ]
  },
  {
   "cell_type": "code",
   "execution_count": 87,
   "metadata": {},
   "outputs": [
    {
     "data": {
      "text/plain": [
       "<BarContainer object of 10 artists>"
      ]
     },
     "execution_count": 87,
     "metadata": {},
     "output_type": "execute_result"
    },
    {
     "data": {
      "image/png": "[encoded data removed]",
      "text/plain": [
       "<Figure size 720x360 with 1 Axes>"
      ]
     },
     "metadata": {
      "needs_background": "light"
     },
     "output_type": "display_data"
    }
   ],
   "source": [
    "# 6\n",
    "import matplotlib.pyplot as plt\n",
    "import japanize_matplotlib\n",
    "from collections import defaultdict\n",
    "\n",
    "ans = defaultdict(int)\n",
    "for result in results:\n",
    "    for word in result:\n",
    "        if word[\"pos\"] != \"記号\":\n",
    "            ans[word[\"surface\"]] += 1\n",
    "\n",
    "ans = sorted(ans.items(), key=lambda x: x[1], reverse=True)\n",
    "x = [x[0] for x in ans[:10]]\n",
    "y = [x[1] for x in ans[:10]]\n",
    "\n",
    "plt.figure(figsize=(10, 5))\n",
    "plt.bar(x, y)"
   ]
  },
  {
   "cell_type": "code",
   "execution_count": 89,
   "metadata": {},
   "outputs": [
    {
     "data": {
      "text/plain": [
       "<BarContainer object of 10 artists>"
      ]
     },
     "execution_count": 89,
     "metadata": {},
     "output_type": "execute_result"
    },
    {
     "data": {
      "image/png": "[encoded data removed]",
      "text/plain": [
       "<Figure size 720x360 with 1 Axes>"
      ]
     },
     "metadata": {
      "needs_background": "light"
     },
     "output_type": "display_data"
    }
   ],
   "source": [
    "# 7\n",
    "import matplotlib.pyplot as plt\n",
    "import japanize_matplotlib\n",
    "from collections import defaultdict\n",
    "\n",
    "ans = defaultdict(int)\n",
    "for result in results:\n",
    "    if \"猫\" in [word[\"surface\"] for word in result]:\n",
    "        for word in result:\n",
    "            if word[\"pos\"] != \"記号\":\n",
    "                ans[word[\"surface\"]] += 1\n",
    "\n",
    "ans.pop(\"猫\")\n",
    "ans = sorted(ans.items(), key=lambda x: x[1], reverse=True)\n",
    "x = [x[0] for x in ans[:10]]\n",
    "y = [x[1] for x in ans[:10]]\n",
    "\n",
    "plt.figure(figsize=(10, 5))\n",
    "plt.bar(x, y)"
   ]
  },
  {
   "cell_type": "code",
   "execution_count": 97,
   "metadata": {},
   "outputs": [
    {
     "data": {
      "text/plain": [
       "Text(0, 0.5, '単語種類数')"
      ]
     },
     "execution_count": 97,
     "metadata": {},
     "output_type": "execute_result"
    },
    {
     "data": {
      "image/png": "[encoded data removed]",
      "text/plain": [
       "<Figure size 720x360 with 1 Axes>"
      ]
     },
     "metadata": {
      "needs_background": "light"
     },
     "output_type": "display_data"
    }
   ],
   "source": [
    "# 8\n",
    "import matplotlib.pyplot as plt\n",
    "import japanize_matplotlib\n",
    "from collections import defaultdict\n",
    "\n",
    "ans = defaultdict(int)\n",
    "for result in results:\n",
    "    for word in result:\n",
    "        if word[\"pos\"] != \"記号\":\n",
    "            ans[word[\"surface\"]] += 1\n",
    "\n",
    "plt.figure(figsize=(10, 5))\n",
    "plt.hist(ans.values(), bins=100)\n",
    "plt.xlabel(\"単語出現頻度\", fontsize=12)\n",
    "plt.ylabel(\"単語種類数\", fontsize=12)"
   ]
  },
  {
   "cell_type": "code",
   "execution_count": 100,
   "metadata": {},
   "outputs": [
    {
     "data": {
      "text/plain": [
       "Text(0, 0.5, '単語出現頻度')"
      ]
     },
     "execution_count": 100,
     "metadata": {},
     "output_type": "execute_result"
    },
    {
     "data": {
      "image/png": "[encoded data removed]",
      "text/plain": [
       "<Figure size 720x360 with 1 Axes>"
      ]
     },
     "metadata": {
      "needs_background": "light"
     },
     "output_type": "display_data"
    }
   ],
   "source": [
    "# 9\n",
    "import matplotlib.pyplot as plt\n",
    "import japanize_matplotlib\n",
    "from collections import defaultdict\n",
    "\n",
    "ans = defaultdict(int)\n",
    "for result in results:\n",
    "    if \"猫\" in [word[\"surface\"] for word in result]:\n",
    "        for word in result:\n",
    "            if word[\"pos\"] != \"記号\":\n",
    "                ans[word[\"surface\"]] += 1\n",
    "\n",
    "ans.pop(\"猫\")\n",
    "ans = sorted(ans.items(), key=lambda x: x[1], reverse=True)\n",
    "x = [i for i, _ in enumerate(ans)]\n",
    "y = [x[1] for x in ans]\n",
    "\n",
    "plt.figure(figsize=(10, 5))\n",
    "plt.scatter(x, y)\n",
    "plt.xscale(\"log\")\n",
    "plt.yscale(\"log\")\n",
    "plt.xlabel(\"単語出現頻度順位\", fontsize=12)\n",
    "plt.ylabel(\"単語出現頻度\", fontsize=12)"
   ]
  }
 ],
 "metadata": {
  "kernelspec": {
   "display_name": "base",
   "language": "python",
   "name": "python3"
  },
  "language_info": {
   "codemirror_mode": {
    "name": "ipython",
    "version": 3
   },
   "file_extension": ".py",
   "mimetype": "text/x-python",
   "name": "python",
   "nbconvert_exporter": "python",
   "pygments_lexer": "ipython3",
   "version": "3.9.7"
  },
  "orig_nbformat": 4
 },
 "nbformat": 4,
 "nbformat_minor": 2
}
